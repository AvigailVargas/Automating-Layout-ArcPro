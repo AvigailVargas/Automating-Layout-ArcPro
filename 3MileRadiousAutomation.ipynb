{
 "cells": [
  {
   "cell_type": "markdown",
   "metadata": {},
   "source": [
    "# Rules:\n",
    "Before running the code, please be sure to do the following:\n",
    "1. Edit the stand-alone table \"New Charter Location\" with the name and desired address\n",
    "2. Paths can be changed, but not the names of output features"
   ]
  },
  {
   "cell_type": "code",
   "execution_count": 1,
   "metadata": {},
   "outputs": [],
   "source": [
    "from arcgis.gis import GIS\n",
    "import arcpy, os, sys\n",
    "aprx=arcpy.mp.ArcGISProject(\"CURRENT\")\n",
    "p=arcpy.mp.ArcGISProject(\"CURRENT\")\n",
    "m= p.listMaps()[0]\n",
    "arcpy.env.overwriteOutput=True"
   ]
  },
  {
   "cell_type": "markdown",
   "metadata": {},
   "source": [
    "# Making the School of Focus"
   ]
  },
  {
   "cell_type": "code",
   "execution_count": 3,
   "metadata": {},
   "outputs": [
    {
     "data": {
      "text/html": [
       "<div class='gpresult'><h2>Messages</h2><div id='messages'>Start Time: Wednesday, August 7, 2024 9:15:09 AM<br>Executing Geocode Addresses...<br>1 Matched (100.00%)\\r\\n0 Unmatched (0.00%)\\r\\n0 Tied (0.00%)\\r\\nAverage speed: 8530 (records/hour)<br>Succeeded at Wednesday, August 7, 2024 9:15:10 AM (Elapsed Time: 1.28 seconds)<br></div><div id = 'default' /></div></div>"
      ],
      "text/plain": [
       "<Result 'C:\\\\Users\\\\Avigail.Vargas\\\\Documents\\\\ArcGIS\\\\Projects\\\\PersonalProjects\\\\3MileRadiusTemplate\\\\Default.gdb\\\\NewCharterLocationPoint'>"
      ]
     },
     "execution_count": 3,
     "metadata": {},
     "output_type": "execute_result"
    }
   ],
   "source": [
    "#geocode new school location\n",
    "# Log in to Portal\n",
    "gis=GIS(\"home\")\n",
    "\n",
    "arcpy.geocoding.GeocodeAddresses(\n",
    "    in_table=\"NewCharterLocation\",\n",
    "    address_locator=\"https://geocode.arcgis.com/arcgis/rest/services/World/GeocodeServer/Esri World Geocoder\",\n",
    "    in_address_fields=\"'Address or Place' Address VISIBLE NONE;Address2 <None> VISIBLE NONE;Address3 <None> VISIBLE NONE;Neighborhood <None> VISIBLE NONE;City City VISIBLE NONE;County <None> VISIBLE NONE;State State VISIBLE NONE;ZIP ZIP VISIBLE NONE;ZIP4 <None> VISIBLE NONE;Country <None> VISIBLE NONE\",\n",
    "    out_feature_class=r\"C:\\Users\\Avigail.Vargas\\Documents\\ArcGIS\\Projects\\PersonalProjects\\3MileRadiusTemplate\\Default.gdb\\NewCharterLocationPoint\",\n",
    "    out_relationship_type=\"STATIC\",\n",
    "    country=\"US\",\n",
    "    location_type=\"ADDRESS_LOCATION\",\n",
    "    category=None,\n",
    "    output_fields=\"ALL\"\n",
    ")"
   ]
  },
  {
   "cell_type": "code",
   "execution_count": 4,
   "metadata": {},
   "outputs": [
    {
     "data": {
      "text/html": [
       "<div class='gpresult'><h2>Messages</h2><div id='messages'>Start Time: Wednesday, August 7, 2024 9:15:18 AM<br>Succeeded at Wednesday, August 7, 2024 9:15:20 AM (Elapsed Time: 1.80 seconds)<br></div><div id = 'default' /></div></div>"
      ],
      "text/plain": [
       "<Result 'NewCharterLocationPoint'>"
      ]
     },
     "execution_count": 4,
     "metadata": {},
     "output_type": "execute_result"
    }
   ],
   "source": [
    "#update symbology of geocoded address\n",
    "arcpy.management.ApplySymbologyFromLayer(\n",
    "    in_layer=\"NewCharterLocationPoint\",\n",
    "    in_symbology_layer=\"IngeniumCharter\",\n",
    "    symbology_fields=None,\n",
    "    update_symbology=\"MAINTAIN\"\n",
    ")\n",
    "\n",
    "#map = aprx.listMaps()[0]\n",
    "#for lyr in map.listLayers():\n",
    "    #print(lyr.name)\n",
    "    #if \"NewCharterLoca_GeocodeAddres\" in lyr.name:\n",
    "        #layerName = str(lyr.name)\n",
    "        #lyr.name = lyr.name.replace(layerName, school_name )\n",
    "        #print(f\"Layer renamed to: {lyr.name}\")"
   ]
  },
  {
   "cell_type": "markdown",
   "metadata": {},
   "source": [
    "# Make Buffer Zone"
   ]
  },
  {
   "cell_type": "code",
   "execution_count": 5,
   "metadata": {
    "scrolled": true
   },
   "outputs": [
    {
     "data": {
      "text/html": [
       "<div class='gpresult'><h2>Messages</h2><div id='messages'>Start Time: Wednesday, August 7, 2024 9:15:32 AM<br>Succeeded at Wednesday, August 7, 2024 9:15:34 AM (Elapsed Time: 1.17 seconds)<br></div><div id = 'default' /></div></div>"
      ],
      "text/plain": [
       "<Result 'New_BufferBorder'>"
      ]
     },
     "execution_count": 5,
     "metadata": {},
     "output_type": "execute_result"
    }
   ],
   "source": [
    "#create buffer of 3-miles from layer\n",
    "#change in_features to school_name\n",
    "arcpy.analysis.Buffer(\n",
    "    in_features=\"NewCharterLocationPoint\",\n",
    "    out_feature_class=r\"C:\\Users\\Avigail.Vargas\\Documents\\ArcGIS\\Projects\\PersonalProjects\\3MileRadiusTemplate\\Default.gdb\\New_3MileBufferFill\",\n",
    "    buffer_distance_or_field=\"3 Miles\",\n",
    "    line_side=\"FULL\",\n",
    "    line_end_type=\"ROUND\",\n",
    "    dissolve_option=\"NONE\",\n",
    "    dissolve_field=None,\n",
    "    method=\"PLANAR\"\n",
    ")\n",
    "#change in_features to school_name\n",
    "arcpy.analysis.Buffer(\n",
    "    in_features=\"NewCharterLocationPoint\",\n",
    "    out_feature_class=r\"C:\\Users\\Avigail.Vargas\\Documents\\ArcGIS\\Projects\\PersonalProjects\\3MileRadiusTemplate\\Default.gdb\\New_BufferBorder\",\n",
    "    buffer_distance_or_field=\"3 Miles\",\n",
    "    line_side=\"FULL\",\n",
    "    line_end_type=\"ROUND\",\n",
    "    dissolve_option=\"NONE\",\n",
    "    dissolve_field=None,\n",
    "    method=\"PLANAR\"\n",
    ")\n",
    "\n",
    "arcpy.management.ApplySymbologyFromLayer(\n",
    "    in_layer=\"New_3MileBufferFill\",\n",
    "    in_symbology_layer=\"Ingenium_3MileBufferFill\",\n",
    "    symbology_fields=None,\n",
    "    update_symbology=\"MAINTAIN\"\n",
    ")\n",
    "\n",
    "arcpy.management.ApplySymbologyFromLayer(\n",
    "    in_layer=\"New_BufferBorder\",\n",
    "    in_symbology_layer=\"Ingenium_3MileBuffer\",\n",
    "    symbology_fields=None,\n",
    "    update_symbology=\"MAINTAIN\"\n",
    ")"
   ]
  },
  {
   "cell_type": "markdown",
   "metadata": {},
   "source": [
    "# Update Queries to Desired Config"
   ]
  },
  {
   "cell_type": "code",
   "execution_count": 6,
   "metadata": {},
   "outputs": [],
   "source": [
    "#updates config to 6-8. Excludes most magnet centers.\n",
    "query_polys = f\"CONFIG IN ('4-12', '4-8', '6-12', '6-8', '7-12', '7-8', 'K-8', 'TK-8', 'PK-12', 'TK-12', '1-6', 'K-10', 'K-12', 'K-6', 'TK-6')\"\n",
    "query_ptspoly = f\"CONFIG IN ('4-12', '4-8', '6-12', '6-10', '5-8', '6-7', '6-8', '7-12', '7-8', 'K-8', 'K-7', 'PK-12', 'TK-12', 'TK-8', '1-6', '2-6', '3-6', '4-6', '6-6', 'K-6', 'TK-6') And LausdPts_Allsites.BSYS_CLAS NOT IN ('Magnet Center - Elementary', 'Magnet Center - Middle School', 'Magnet Center - Senior High')\"\n",
    "\n",
    "l = m.listLayers(\"LAUSDPolys\")[0]\n",
    "\n",
    "if l.supports('DefinitionQuery'):\n",
    "  #Gets the list of definition queries\n",
    "  dql = l.listDefinitionQueries()\n",
    "  #Clears active definition queries otherwise the update will fail if there is already an active query\n",
    "  for dq in dql:\n",
    "    dq['isActive'] = False\n",
    "  #Creates a new definition query and append it to the list\n",
    "  dql.append({'name': 'Appended Query', 'sql': query_polys, 'isActive': True})\n",
    "  #Updates the definition queries with the newly modified list\n",
    "  l.updateDefinitionQueries(dql)\n",
    " \n",
    "l = m.listLayers(\"LausdPtsMapPoly\")[0]\n",
    "\n",
    "if l.supports('DefinitionQuery'):\n",
    "  #Gets the list of definition queries\n",
    "  dql = l.listDefinitionQueries()\n",
    "  #Clears active definition queries otherwise the update will fail if there is already an active query\n",
    "  for dq in dql:\n",
    "    dq['isActive'] = False\n",
    "  #Creates a new definition query and append it to the list\n",
    "  dql.append({'name': 'Appended Query', 'sql': query_ptspoly, 'isActive': True})\n",
    "  #Updates the definition queries with the newly modified list\n",
    "  l.updateDefinitionQueries(dql)"
   ]
  },
  {
   "cell_type": "markdown",
   "metadata": {},
   "source": [
    "# Creating Excel List in Buffer Zone"
   ]
  },
  {
   "cell_type": "code",
   "execution_count": 10,
   "metadata": {},
   "outputs": [
    {
     "data": {
      "text/html": [
       "<div class='gpresult'><h2>Messages</h2><div id='messages'>Start Time: Thursday, August 1, 2024 1:34:18 PM<br>Succeeded at Thursday, August 1, 2024 1:34:18 PM (Elapsed Time: 0.10 seconds)<br></div><div id = 'default' /></div></div>"
      ],
      "text/plain": [
       "<Result 'New_COS_Boundary'>"
      ]
     },
     "execution_count": 10,
     "metadata": {},
     "output_type": "execute_result"
    }
   ],
   "source": [
    "#select by location all polygons and points that intersect buffer zone\n",
    "arcpy.management.SelectLayerByLocation(\n",
    "    in_layer=\"LausdPtsMapPoly;LausdPolys\",\n",
    "    overlap_type=\"INTERSECT\",\n",
    "    select_features=\"New_3MileBufferFill\",\n",
    "    search_distance=None,\n",
    "    selection_type=\"NEW_SELECTION\",\n",
    "    invert_spatial_relationship=\"NOT_INVERT\"\n",
    ")\n",
    "\n",
    "#export table of selected features as an excel sheet\n",
    "arcpy.conversion.TableToExcel(\n",
    "    Input_Table=\"LausdPolys;LausdPtsMapPoly\",\n",
    "    Output_Excel_File=r\"C:\\PersonalProjects\\ExcelSchoolsConfig6_8.xls\",\n",
    "    Use_field_alias_as_column_header=\"ALIAS\",\n",
    "    Use_domain_and_subtype_description=\"CODE\"\n",
    ")\n",
    "#clear selection\n",
    "arcpy.management.SelectLayerByAttribute(\"LausdPolys\",\"CLEAR_SELECTION\")\n",
    "arcpy.management.SelectLayerByAttribute(\"LausdPtsMapPoly\",\"CLEAR_SELECTION\")\n",
    "#Get COS\n",
    "#Change select_features to school_name\n",
    "arcpy.management.SelectLayerByLocation(\n",
    "    in_layer=\"COS_Boundary\",\n",
    "    overlap_type=\"INTERSECT\",\n",
    "    select_features=\"NewCharterLocationPoint\",\n",
    "    search_distance=None,\n",
    "    selection_type=\"NEW_SELECTION\",\n",
    "    invert_spatial_relationship=\"NOT_INVERT\"\n",
    ")\n",
    "arcpy.management.CopyFeatures(\"COS_Boundary\",\"New_COS_Boundary\")\n",
    "arcpy.management.SelectLayerByAttribute(\"COS_Boundary\",\"CLEAR_SELECTION\")\n",
    "#Select by location all LAUSDPolygons and Points within COS\n",
    "arcpy.management.SelectLayerByLocation(\n",
    "    in_layer=\"LausdPtsMapPoly;LausdPolys\",\n",
    "    overlap_type=\"INTERSECT\",\n",
    "    select_features=\"New_COS_Boundary\",\n",
    "    search_distance=None,\n",
    "    selection_type=\"NEW_SELECTION\",\n",
    "    invert_spatial_relationship=\"NOT_INVERT\"\n",
    ")\n",
    "#Export selected features as an Excel sheet\n",
    "arcpy.conversion.TableToExcel(\n",
    "    Input_Table=\"LausdPolys;LausdPtsMapPoly\",\n",
    "    Output_Excel_File=r\"C:\\PersonalProjects\\ExcelCOSConfig6_8.xls\",\n",
    "    Use_field_alias_as_column_header=\"ALIAS\",\n",
    "    Use_domain_and_subtype_description=\"CODE\"\n",
    ")\n",
    "#clear selection\n",
    "arcpy.management.SelectLayerByAttribute(\"New_COS_Boundary\",\"CLEAR_SELECTION\")\n",
    "arcpy.management.SelectLayerByAttribute(\"LausdPolys\",\"CLEAR_SELECTION\")\n",
    "arcpy.management.SelectLayerByAttribute(\"LausdPtsMapPoly\",\"CLEAR_SELECTION\")"
   ]
  },
  {
   "cell_type": "code",
   "execution_count": null,
   "metadata": {},
   "outputs": [],
   "source": []
  }
 ],
 "metadata": {
  "kernelspec": {
   "display_name": "ArcGISPro",
   "language": "Python",
   "name": "python3"
  },
  "language_info": {
   "file_extension": ".py",
   "name": "python",
   "version": "3"
  }
 },
 "nbformat": 4,
 "nbformat_minor": 2
}
